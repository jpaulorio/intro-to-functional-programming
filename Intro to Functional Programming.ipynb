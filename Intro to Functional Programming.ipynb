{
 "cells": [
  {
   "cell_type": "markdown",
   "metadata": {
    "slideshow": {
     "slide_type": "slide"
    }
   },
   "source": [
    "# Functional Programming\n",
    "\n",
    "![Alt](evolution.png \"Evolution\")"
   ]
  },
  {
   "cell_type": "markdown",
   "metadata": {
    "slideshow": {
     "slide_type": "slide"
    }
   },
   "source": [
    "## Benefits"
   ]
  },
  {
   "cell_type": "markdown",
   "metadata": {
    "slideshow": {
     "slide_type": "slide"
    }
   },
   "source": [
    "### Simplicity and Legibility"
   ]
  },
  {
   "cell_type": "markdown",
   "metadata": {
    "slideshow": {
     "slide_type": "subslide"
    }
   },
   "source": [
    "#### With Boilerplate"
   ]
  },
  {
   "cell_type": "markdown",
   "metadata": {
    "slideshow": {
     "slide_type": "subslide"
    }
   },
   "source": [
    "```javascript\n",
    "var things = [1, 2, 3, 4];\n",
    "for (var i = 0; i < things.length; ++i) {\n",
    "    things[i] = things[i] * 10;\n",
    "}\n",
    "console.log(things);\n",
    "```"
   ]
  },
  {
   "cell_type": "markdown",
   "metadata": {
    "slideshow": {
     "slide_type": "subslide"
    }
   },
   "source": [
    "#### No Boilerplate"
   ]
  },
  {
   "cell_type": "code",
   "execution_count": 88,
   "metadata": {
    "collapsed": false,
    "slideshow": {
     "slide_type": "subslide"
    }
   },
   "outputs": [
    {
     "data": {
      "text/plain": [
       "\u001b[36mthings\u001b[0m: \u001b[32mList\u001b[0m[\u001b[32mInt\u001b[0m] = \u001b[33mList\u001b[0m(\u001b[32m1\u001b[0m, \u001b[32m2\u001b[0m, \u001b[32m3\u001b[0m, \u001b[32m4\u001b[0m)\n",
       "\u001b[36mnewThings\u001b[0m: \u001b[32mList\u001b[0m[\u001b[32mInt\u001b[0m] = \u001b[33mList\u001b[0m(\u001b[32m10\u001b[0m, \u001b[32m20\u001b[0m, \u001b[32m30\u001b[0m, \u001b[32m40\u001b[0m)"
      ]
     },
     "metadata": {},
     "output_type": "display_data"
    }
   ],
   "source": [
    "val things = List(1, 2, 3, 4)\n",
    "\n",
    "val newThings = things.map(v => v * 10)"
   ]
  },
  {
   "cell_type": "markdown",
   "metadata": {
    "slideshow": {
     "slide_type": "subslide"
    }
   },
   "source": [
    "#### With Boilerplate"
   ]
  },
  {
   "cell_type": "markdown",
   "metadata": {
    "slideshow": {
     "slide_type": "subslide"
    }
   },
   "source": [
    "```java\n",
    "interface Calc {\n",
    "  int operation(n, m):Integer;\n",
    "}\n",
    "\n",
    "class CalcAdds implements Calc {\n",
    "  int operation(n, m) { return n + m }\n",
    "}\n",
    "\n",
    "class CalcMult implements Calc {\n",
    "  int operation(n, m:Integer) { return n * m }\n",
    "}\n",
    "\n",
    "Calc sum = new CalcSum()\n",
    "int result = sum.operation(1,2)\n",
    "\n",
    "Calc mult = new CalcMult()\n",
    "int result = mult.operation(1,2)\n",
    "```"
   ]
  },
  {
   "cell_type": "markdown",
   "metadata": {
    "slideshow": {
     "slide_type": "subslide"
    }
   },
   "source": [
    "#### No Boilerplate"
   ]
  },
  {
   "cell_type": "code",
   "execution_count": 49,
   "metadata": {
    "collapsed": false,
    "slideshow": {
     "slide_type": "subslide"
    }
   },
   "outputs": [
    {
     "data": {
      "text/plain": [
       "defined \u001b[32mobject \u001b[36mCalc\u001b[0m\n",
       "\u001b[36mresultSum\u001b[0m: \u001b[32mInt\u001b[0m = \u001b[32m4\u001b[0m\n",
       "\u001b[36mresultMul\u001b[0m: \u001b[32mInt\u001b[0m = \u001b[32m3\u001b[0m"
      ]
     },
     "metadata": {},
     "output_type": "display_data"
    }
   ],
   "source": [
    "object Calc {\n",
    "\tdef calc(a:Int,b:Int,f:(Int,Int)=>Int):Int = {\n",
    "   \t f(a,b)\n",
    "\t}\n",
    "}\n",
    "\n",
    "val resultSum = Calc.calc(1,3,(_+_))\n",
    "\n",
    "val resultMul = Calc.calc(1,3,(_*_))"
   ]
  },
  {
   "cell_type": "markdown",
   "metadata": {
    "slideshow": {
     "slide_type": "slide"
    }
   },
   "source": [
    "### Composibility"
   ]
  },
  {
   "cell_type": "code",
   "execution_count": 50,
   "metadata": {
    "collapsed": false,
    "slideshow": {
     "slide_type": "subslide"
    }
   },
   "outputs": [
    {
     "data": {
      "text/plain": [
       "defined \u001b[32mfunction \u001b[36mtwofold\u001b[0m\n",
       "defined \u001b[32mfunction \u001b[36mthreefold\u001b[0m\n",
       "\u001b[36msixfold\u001b[0m: \u001b[32mInt\u001b[0m => \u001b[32mInt\u001b[0m = <function1>\n",
       "\u001b[36mres49_3\u001b[0m: \u001b[32mInt\u001b[0m = \u001b[32m12\u001b[0m"
      ]
     },
     "metadata": {},
     "output_type": "display_data"
    }
   ],
   "source": [
    "def twofold(n:Int) = {n * 2}\n",
    "\n",
    "def threefold(n:Int) = {n * 3}\n",
    "\n",
    "val sixfold = twofold _ compose threefold _\n",
    "\n",
    "sixfold(2)"
   ]
  },
  {
   "cell_type": "markdown",
   "metadata": {
    "slideshow": {
     "slide_type": "slide"
    }
   },
   "source": [
    "### Debugability"
   ]
  },
  {
   "cell_type": "markdown",
   "metadata": {
    "slideshow": {
     "slide_type": "subslide"
    }
   },
   "source": [
    "```java\n",
    "int rt(int x)\n",
    "{\n",
    "  return x + 1;\n",
    "}\n",
    "```"
   ]
  },
  {
   "cell_type": "markdown",
   "metadata": {
    "slideshow": {
     "slide_type": "subslide"
    }
   },
   "source": [
    "This is easy to reason about: \n",
    "\n",
    "```java\n",
    "rt(6) = 6 + 1 = 7\n",
    "```"
   ]
  },
  {
   "cell_type": "markdown",
   "metadata": {
    "slideshow": {
     "slide_type": "subslide"
    }
   },
   "source": [
    "```java\n",
    "int globalValue = 0;\n",
    "\n",
    "int rq(int x)\n",
    "{\n",
    "  globalValue++;\n",
    "  return x + globalValue;\n",
    "}\n",
    "```\n"
   ]
  },
  {
   "cell_type": "markdown",
   "metadata": {
    "slideshow": {
     "slide_type": "subslide"
    }
   },
   "source": [
    "This is hard to reason about: \n",
    "\n",
    "```java\n",
    "rq(6) = ???\n",
    "```"
   ]
  },
  {
   "cell_type": "markdown",
   "metadata": {
    "slideshow": {
     "slide_type": "subslide"
    }
   },
   "source": [
    "What about the following?\n",
    "\n",
    "```java\n",
    "rq(x) + rq(y) * (rq(x) - rq(x))\n",
    "```"
   ]
  },
  {
   "cell_type": "markdown",
   "metadata": {
    "slideshow": {
     "slide_type": "slide"
    }
   },
   "source": [
    "### Quality and Robustness\n",
    "\n",
    "Immutability, legibility, simplicity and debugability makes the code less errorprone and easier to test."
   ]
  },
  {
   "cell_type": "markdown",
   "metadata": {
    "slideshow": {
     "slide_type": "slide"
    }
   },
   "source": [
    "### Concurrency and Parallelism\n",
    "\n",
    "Immutability along with Futures and Promises help avoiding common concurrency issues like race conditions and deadlocks."
   ]
  },
  {
   "cell_type": "markdown",
   "metadata": {
    "slideshow": {
     "slide_type": "slide"
    }
   },
   "source": [
    "### Higher Level Abstractions\n",
    "\n",
    "Functional Programming pushes us towards thinking in terms of higher level abstractions, i.e., extract common behaviour duplicated throughout the code into higher level functions.\n",
    "\n",
    "The most common functional abstractions are:\n",
    "\n",
    "**map:**\n",
    "\n",
    "```scala\n",
    "(1 to 5).map(_*2)\n",
    "//Vector(2, 4, 6, 8, 10)\n",
    "```\n",
    "\n",
    "**flatMap:**\n",
    "\n",
    "```scala\n",
    "(1 to 5).flatMap(1 to _)\n",
    "//Vector(1, 1, 2, 1, 2, 3, 1, 2, 3, 4, 1, 2, 3, 4, 5)\n",
    "```\n",
    "\n",
    "**reduce:**\n",
    "\n",
    "```scala\n",
    "(1 to 5).reduce(_+_)\n",
    "//15\n",
    "```"
   ]
  },
  {
   "cell_type": "markdown",
   "metadata": {
    "slideshow": {
     "slide_type": "slide"
    }
   },
   "source": [
    "## Basic Concepts"
   ]
  },
  {
   "cell_type": "markdown",
   "metadata": {
    "slideshow": {
     "slide_type": "slide"
    }
   },
   "source": [
    "### REPL\n",
    "\n",
    "REPL stands for read, eval, print, loop. \n",
    "\n",
    "Most functional programming languages provide a REPL which can be used for rapid experimentation and prototyping."
   ]
  },
  {
   "cell_type": "markdown",
   "metadata": {
    "slideshow": {
     "slide_type": "slide"
    }
   },
   "source": [
    "### Anonymous Functions\n",
    "\n",
    "Anonymous functions help increasing legibility by reducing the need for boilerplate code."
   ]
  },
  {
   "cell_type": "code",
   "execution_count": 82,
   "metadata": {
    "collapsed": false,
    "slideshow": {
     "slide_type": "subslide"
    }
   },
   "outputs": [
    {
     "data": {
      "text/plain": [
       "\u001b[36mf\u001b[0m: (\u001b[32mInt\u001b[0m, \u001b[32mInt\u001b[0m) => \u001b[32mInt\u001b[0m = <function2>\n",
       "\u001b[36mres81_1\u001b[0m: \u001b[32mcollection\u001b[0m.\u001b[32mimmutable\u001b[0m.\u001b[32mIndexedSeq\u001b[0m[\u001b[32mInt\u001b[0m] = \u001b[33mVector\u001b[0m(\u001b[32m2\u001b[0m, \u001b[32m3\u001b[0m, \u001b[32m4\u001b[0m, \u001b[32m5\u001b[0m, \u001b[32m6\u001b[0m)"
      ]
     },
     "metadata": {},
     "output_type": "display_data"
    }
   ],
   "source": [
    "val f = (x:Int, y:Int)=> x + y\n",
    "\n",
    "(1 to 5).map((x) => x + 1)"
   ]
  },
  {
   "cell_type": "markdown",
   "metadata": {
    "slideshow": {
     "slide_type": "slide"
    }
   },
   "source": [
    "### Currying and Partial Function Application\n",
    "\n",
    "Currying is a method of producing a chain of functions from a function with multiple arguments. \n",
    "\n",
    "The arguments of the original function will be split into the new generated functions.\n",
    "\n",
    "Given the mod function below:"
   ]
  },
  {
   "cell_type": "code",
   "execution_count": 52,
   "metadata": {
    "collapsed": false,
    "slideshow": {
     "slide_type": "subslide"
    }
   },
   "outputs": [
    {
     "data": {
      "text/plain": [
       "defined \u001b[32mfunction \u001b[36mmod\u001b[0m"
      ]
     },
     "metadata": {},
     "output_type": "display_data"
    }
   ],
   "source": [
    "def mod(n:Int, x:Int) = ((x % n) == 0)"
   ]
  },
  {
   "cell_type": "markdown",
   "metadata": {
    "slideshow": {
     "slide_type": "subslide"
    }
   },
   "source": [
    "We can define a curried version of mod like in the code snippet below:"
   ]
  },
  {
   "cell_type": "code",
   "execution_count": 83,
   "metadata": {
    "collapsed": false,
    "slideshow": {
     "slide_type": "subslide"
    }
   },
   "outputs": [
    {
     "data": {
      "text/plain": [
       "defined \u001b[32mfunction \u001b[36mmodCurried\u001b[0m"
      ]
     },
     "metadata": {},
     "output_type": "display_data"
    }
   ],
   "source": [
    "def modCurried(n: Int): (Int) => Boolean = {\n",
    "  (x:Int) => mod(n, x)\n",
    "}"
   ]
  },
  {
   "cell_type": "code",
   "execution_count": 85,
   "metadata": {
    "collapsed": false,
    "slideshow": {
     "slide_type": "subslide"
    }
   },
   "outputs": [
    {
     "data": {
      "text/plain": [
       "defined \u001b[32mfunction \u001b[36mfilter\u001b[0m\n",
       "\u001b[36mnums\u001b[0m: \u001b[32mList\u001b[0m[\u001b[32mInt\u001b[0m] = \u001b[33mList\u001b[0m(\u001b[32m1\u001b[0m, \u001b[32m2\u001b[0m, \u001b[32m3\u001b[0m, \u001b[32m4\u001b[0m, \u001b[32m5\u001b[0m, \u001b[32m6\u001b[0m, \u001b[32m7\u001b[0m, \u001b[32m8\u001b[0m)\n",
       "\u001b[36mres84_2\u001b[0m: \u001b[32mList\u001b[0m[\u001b[32mInt\u001b[0m] = \u001b[33mList\u001b[0m(\u001b[32m2\u001b[0m, \u001b[32m4\u001b[0m, \u001b[32m6\u001b[0m, \u001b[32m8\u001b[0m)\n",
       "\u001b[36mres84_3\u001b[0m: \u001b[32mList\u001b[0m[\u001b[32mInt\u001b[0m] = \u001b[33mList\u001b[0m(\u001b[32m3\u001b[0m, \u001b[32m6\u001b[0m)"
      ]
     },
     "metadata": {},
     "output_type": "display_data"
    }
   ],
   "source": [
    "def filter(xs: List[Int], p: Int => Boolean): List[Int] = {\n",
    "  if (xs.isEmpty) xs\n",
    "  else if (p(xs.head)) xs.head :: filter(xs.tail, p)\n",
    "  else filter(xs.tail, p)\n",
    "}\n",
    "\n",
    "val nums = List(1, 2, 3, 4, 5, 6, 7, 8)\n",
    "\n",
    "filter(nums, modCurried(2))\n",
    "filter(nums, modCurried(3))"
   ]
  },
  {
   "cell_type": "markdown",
   "metadata": {
    "slideshow": {
     "slide_type": "subslide"
    }
   },
   "source": [
    "Uncurrying is the inverse of currying, i.e, we generate a function with more arguments than the originals functions."
   ]
  },
  {
   "cell_type": "code",
   "execution_count": 54,
   "metadata": {
    "collapsed": false,
    "slideshow": {
     "slide_type": "subslide"
    }
   },
   "outputs": [
    {
     "data": {
      "text/plain": [
       "defined \u001b[32mfunction \u001b[36mmodUncurried\u001b[0m"
      ]
     },
     "metadata": {},
     "output_type": "display_data"
    }
   ],
   "source": [
    "def modUncurried(n: Int, x:Int) = {\n",
    "\tmodCurried(n)(x)\n",
    "}"
   ]
  },
  {
   "cell_type": "markdown",
   "metadata": {
    "slideshow": {
     "slide_type": "subslide"
    }
   },
   "source": [
    "Currying enables Partial function application, which allows a function to have some of its parameters fixed, generating a new function with lower arity. \n",
    "\n",
    "For example:"
   ]
  },
  {
   "cell_type": "code",
   "execution_count": 55,
   "metadata": {
    "collapsed": false,
    "slideshow": {
     "slide_type": "subslide"
    }
   },
   "outputs": [
    {
     "data": {
      "text/plain": [
       "defined \u001b[32mfunction \u001b[36madd\u001b[0m\n",
       "\u001b[36minc\u001b[0m: \u001b[32mInt\u001b[0m => \u001b[32mInt\u001b[0m = <function1>\n",
       "\u001b[36mres\u001b[0m: \u001b[32mInt\u001b[0m = \u001b[32m1\u001b[0m"
      ]
     },
     "metadata": {},
     "output_type": "display_data"
    }
   ],
   "source": [
    "def add(x: Int, y: Int) = {x + y} \n",
    "\n",
    "val inc = add(1, _: Int)\n",
    "\n",
    "val res = inc(0)"
   ]
  },
  {
   "cell_type": "markdown",
   "metadata": {
    "slideshow": {
     "slide_type": "slide"
    }
   },
   "source": [
    "### Pure Functions and Side Effects\n",
    "\n",
    "Pure functions are functions:\n",
    "\n",
    "1. Whose return values are only determined by its inputs.\n",
    "2. Have no observable side effects.\n",
    "\n",
    "Example of impure function:\n",
    "\n",
    "```java\n",
    "class Person {\n",
    "\tint age = 0;\n",
    "\t\n",
    "\tvoid incrementAge(years:Integer) {\n",
    "\t  this.age += years;\n",
    "\t}\n",
    "}\n",
    "```\n",
    "\n",
    "Example of pure function:"
   ]
  },
  {
   "cell_type": "code",
   "execution_count": 56,
   "metadata": {
    "collapsed": false,
    "slideshow": {
     "slide_type": "subslide"
    }
   },
   "outputs": [
    {
     "data": {
      "text/plain": [
       "defined \u001b[32mfunction \u001b[36mincrementAge\u001b[0m"
      ]
     },
     "metadata": {},
     "output_type": "display_data"
    }
   ],
   "source": [
    "def incrementAge(age:Int, years:Int) = {\n",
    "\tage + years;\n",
    "}"
   ]
  },
  {
   "cell_type": "markdown",
   "metadata": {
    "slideshow": {
     "slide_type": "fragment"
    }
   },
   "source": [
    "Reading from the keyboard and writing to a display are considered side effects. The same applies for http requests and any other kind of I/O operation."
   ]
  },
  {
   "cell_type": "markdown",
   "metadata": {
    "slideshow": {
     "slide_type": "slide"
    }
   },
   "source": [
    "### Functions as First Class Citizens\n",
    "\n",
    "Functions are called first class citizens when the language they are implemented allows them to be assigned to variables or stored in data structures."
   ]
  },
  {
   "cell_type": "code",
   "execution_count": 57,
   "metadata": {
    "collapsed": false,
    "slideshow": {
     "slide_type": "subslide"
    }
   },
   "outputs": [
    {
     "data": {
      "text/plain": [
       "\u001b[36mf\u001b[0m: (\u001b[32mInt\u001b[0m, \u001b[32mInt\u001b[0m) => \u001b[32mInt\u001b[0m = <function2>\n",
       "\u001b[36mres56_1\u001b[0m: \u001b[32mInt\u001b[0m = \u001b[32m6\u001b[0m\n",
       "\u001b[36mfunctionList\u001b[0m: \u001b[32mList\u001b[0m[(\u001b[32mInt\u001b[0m, \u001b[32mInt\u001b[0m) => \u001b[32mInt\u001b[0m] = \u001b[33mList\u001b[0m(<function2>)"
      ]
     },
     "metadata": {},
     "output_type": "display_data"
    }
   ],
   "source": [
    "val f = (x:Int,y:Int) => x * y\n",
    "f(2,3)\n",
    "\n",
    "val functionList = List((x:Int, y:Int) => x * y)"
   ]
  },
  {
   "cell_type": "markdown",
   "metadata": {
    "slideshow": {
     "slide_type": "slide"
    }
   },
   "source": [
    "### Higher Order Functions\n",
    "\n",
    "Higher order functions are functions that receive other functions as parameters and/or return other functions as results."
   ]
  },
  {
   "cell_type": "code",
   "execution_count": 58,
   "metadata": {
    "collapsed": false,
    "slideshow": {
     "slide_type": "subslide"
    }
   },
   "outputs": [
    {
     "data": {
      "text/plain": [
       "defined \u001b[32mtrait \u001b[36mUser\u001b[0m\n",
       "defined \u001b[32mfunction \u001b[36msave\u001b[0m\n",
       "defined \u001b[32mfunction \u001b[36msaveIfValid\u001b[0m\n",
       "defined \u001b[32mfunction \u001b[36mdoOperation\u001b[0m\n",
       "\u001b[36mres57_4\u001b[0m: \u001b[32mInt\u001b[0m = \u001b[32m3\u001b[0m\n",
       "\u001b[36mres57_5\u001b[0m: \u001b[32mInt\u001b[0m = \u001b[32m2\u001b[0m"
      ]
     },
     "metadata": {},
     "output_type": "display_data"
    }
   ],
   "source": [
    "trait User\n",
    "def save(user:User):Boolean = true\n",
    "\n",
    "def saveIfValid(user:User, validations:List[(User)=>Boolean]) = {\n",
    "\tif (validations.forall(v => v(user))) {\n",
    "\t\tsave(user)\n",
    "\t}\n",
    "}\n",
    "\n",
    "def doOperation(opType:String):(Int,Int)=>Int = {\n",
    "  if (opType == \"Sum\")\n",
    "    (a:Int,b:Int) => a + b\n",
    "  else\n",
    "    (a:Int,b:Int) => a * b\n",
    "}\n",
    "\n",
    "doOperation(\"Sum\")(1,2)\n",
    "doOperation(\"Mul\")(1,2)"
   ]
  },
  {
   "cell_type": "markdown",
   "metadata": {
    "slideshow": {
     "slide_type": "slide"
    }
   },
   "source": [
    "### Immutability\n",
    "\n",
    "Immutability means that once a variable is assigned with a value of a given type, its value will never change. This is true for both scalar types and other data structures like sequences, sets and maps.\n",
    "\n",
    "Instead of changing the value of a variable in-place, expressions using immutable variables generate a new value as the result of applying the expression to the variable.\n",
    "\n",
    "Simple duplicating data structures like lists or vectors, could incurr in memory issues like stack overflow. \n",
    "\n",
    "In order to overcome this kind of issues, techniques like persistent data structures, which reuse part of the original data structures, are used."
   ]
  },
  {
   "cell_type": "code",
   "execution_count": 85,
   "metadata": {
    "collapsed": false,
    "slideshow": {
     "slide_type": "subslide"
    }
   },
   "outputs": [
    {
     "ename": "",
     "evalue": "",
     "output_type": "error",
     "traceback": [
      "\u001b[31mMain.scala:27: x is already defined as value x",
      " ; val x = { () =>",
      "       ^\u001b[0m"
     ]
    }
   ],
   "source": [
    "val x = 1\n",
    "\n",
    "val x = 2"
   ]
  },
  {
   "cell_type": "code",
   "execution_count": 86,
   "metadata": {
    "collapsed": false
   },
   "outputs": [
    {
     "data": {
      "text/plain": [
       "\u001b[36maList\u001b[0m: \u001b[32mList\u001b[0m[\u001b[32mInt\u001b[0m] = \u001b[33mList\u001b[0m(\u001b[32m1\u001b[0m, \u001b[32m2\u001b[0m, \u001b[32m3\u001b[0m)\n",
       "\u001b[36manotherList\u001b[0m: \u001b[32mList\u001b[0m[\u001b[32mInt\u001b[0m] = \u001b[33mList\u001b[0m(\u001b[32m10\u001b[0m, \u001b[32m20\u001b[0m, \u001b[32m30\u001b[0m)"
      ]
     },
     "metadata": {},
     "output_type": "display_data"
    }
   ],
   "source": [
    "val aList = List(1,2,3)\n",
    "\n",
    "val anotherList = aList.map(_*10)"
   ]
  },
  {
   "cell_type": "markdown",
   "metadata": {
    "slideshow": {
     "slide_type": "slide"
    }
   },
   "source": [
    "### Closures\n",
    "\n",
    "A closure is a function together with a referencing environment for the non-local variables of that function. A closure allows a function to access variables outside its immediate lexical scope.\n",
    "\n",
    "A closure is a block of code which meets three criteria:\n",
    "\n",
    "1. The block of code can be passed around as a value, and\n",
    "2. It can be executed on demand by anyone who has that value, at which time, and\n",
    "3. It can refer to variables from the context in which it was created (i.e. it is closed with respect to variable access, in the mathematical sense of the word “closed”)."
   ]
  },
  {
   "cell_type": "code",
   "execution_count": 87,
   "metadata": {
    "collapsed": false,
    "slideshow": {
     "slide_type": "subslide"
    }
   },
   "outputs": [
    {
     "data": {
      "text/plain": [
       "\u001b[36mbelowFirst\u001b[0m: \u001b[32mList\u001b[0m[\u001b[32mInt\u001b[0m] => \u001b[32mList\u001b[0m[\u001b[32mInt\u001b[0m] = <function1>\n",
       "\u001b[36mres86_1\u001b[0m: \u001b[32mList\u001b[0m[\u001b[32mInt\u001b[0m] = \u001b[33mList\u001b[0m(\u001b[32m1\u001b[0m, \u001b[32m4\u001b[0m, \u001b[32m3\u001b[0m)"
      ]
     },
     "metadata": {},
     "output_type": "display_data"
    }
   ],
   "source": [
    "val belowFirst = (xs: List[Int]) => { \n",
    "    val first = xs(0)\n",
    " \n",
    "    val isBelow = (y: Int) => y < first\n",
    " \n",
    "    for {\n",
    "        x <- xs;\n",
    "        if(isBelow(x))\n",
    "        } yield x\n",
    "}\n",
    "\n",
    "belowFirst(List(5, 1, 7, 4, 9, 11, 3))"
   ]
  },
  {
   "cell_type": "markdown",
   "metadata": {
    "slideshow": {
     "slide_type": "slide"
    }
   },
   "source": [
    "### Recursion\n",
    "\n",
    "Recursion is the functional alternative to for loops. Depending on the implementation, recursion can be more efficient than traditional loops."
   ]
  },
  {
   "cell_type": "code",
   "execution_count": 60,
   "metadata": {
    "collapsed": false,
    "slideshow": {
     "slide_type": "subslide"
    }
   },
   "outputs": [
    {
     "data": {
      "text/plain": [
       "defined \u001b[32mfunction \u001b[36mfactorial\u001b[0m\n",
       "\u001b[36mres59_1\u001b[0m: \u001b[32mInt\u001b[0m = \u001b[32m120\u001b[0m"
      ]
     },
     "metadata": {},
     "output_type": "display_data"
    }
   ],
   "source": [
    "def factorial(n: Int): Int = {\n",
    "  if (n == 0) \n",
    "    return 1\n",
    "  else\n",
    "    return n * factorial(n-1)\n",
    "}\n",
    "factorial(5)"
   ]
  },
  {
   "cell_type": "markdown",
   "metadata": {
    "slideshow": {
     "slide_type": "slide"
    }
   },
   "source": [
    "### Lazy Sequences\n",
    "\n",
    "Lazy sequences are sequences whose items are evaluated on demand. It allows us to work with very large sequences and even infinite sequences without raising stack overflow errors."
   ]
  },
  {
   "cell_type": "code",
   "execution_count": 61,
   "metadata": {
    "collapsed": false,
    "slideshow": {
     "slide_type": "subslide"
    }
   },
   "outputs": [
    {
     "data": {
      "text/plain": [
       "\u001b[36mres60\u001b[0m: \u001b[32mList\u001b[0m[(\u001b[32mString\u001b[0m, \u001b[32mInt\u001b[0m)] = \u001b[33mList\u001b[0m(\u001b[33m\u001b[0m(\u001b[32m\"a\"\u001b[0m, \u001b[32m1\u001b[0m), \u001b[33m\u001b[0m(\u001b[32m\"b\"\u001b[0m, \u001b[32m2\u001b[0m), \u001b[33m\u001b[0m(\u001b[32m\"c\"\u001b[0m, \u001b[32m3\u001b[0m))"
      ]
     },
     "metadata": {},
     "output_type": "display_data"
    }
   ],
   "source": [
    "List(\"a\", \"b\", \"c\") zip (Stream from 1)"
   ]
  },
  {
   "cell_type": "markdown",
   "metadata": {
    "slideshow": {
     "slide_type": "subslide"
    }
   },
   "source": [
    "A lazy factorial implementation using an infinite sequence."
   ]
  },
  {
   "cell_type": "code",
   "execution_count": 62,
   "metadata": {
    "collapsed": false,
    "slideshow": {
     "slide_type": "subslide"
    }
   },
   "outputs": [
    {
     "data": {
      "text/plain": [
       "defined \u001b[32mfunction \u001b[36mfactorial\u001b[0m\n",
       "\u001b[36mres61_1\u001b[0m: \u001b[32mBigInt\u001b[0m = 120"
      ]
     },
     "metadata": {},
     "output_type": "display_data"
    }
   ],
   "source": [
    "def factorial: Stream[BigInt] = {\n",
    "  1 #:: (factorial zip Stream.from(1)).map(x => x._1 * x._2)\n",
    "}\n",
    "factorial(5)"
   ]
  },
  {
   "cell_type": "markdown",
   "metadata": {
    "slideshow": {
     "slide_type": "slide"
    }
   },
   "source": [
    "### Functional Abstractions\n",
    "\n",
    "* Map - Consists in creating a new sequence by applying a function to each item from the original sequence."
   ]
  },
  {
   "cell_type": "code",
   "execution_count": 63,
   "metadata": {
    "collapsed": false,
    "slideshow": {
     "slide_type": "subslide"
    }
   },
   "outputs": [
    {
     "data": {
      "text/plain": [
       "\u001b[36mres62\u001b[0m: \u001b[32mcollection\u001b[0m.\u001b[32mimmutable\u001b[0m.\u001b[32mIndexedSeq\u001b[0m[\u001b[32mInt\u001b[0m] = \u001b[33mVector\u001b[0m(\u001b[32m2\u001b[0m, \u001b[32m4\u001b[0m, \u001b[32m6\u001b[0m, \u001b[32m8\u001b[0m, \u001b[32m10\u001b[0m, \u001b[32m12\u001b[0m, \u001b[32m14\u001b[0m, \u001b[32m16\u001b[0m, \u001b[32m18\u001b[0m, \u001b[32m20\u001b[0m)"
      ]
     },
     "metadata": {},
     "output_type": "display_data"
    }
   ],
   "source": [
    "(1 to 10).map(_ * 2)"
   ]
  },
  {
   "cell_type": "markdown",
   "metadata": {
    "slideshow": {
     "slide_type": "subslide"
    }
   },
   "source": [
    "* FlatMap - Similar to map, but the function to be applied must return a sequence, instead of a scalar (single value). It will result in a sequence of sequences which are then flattened into a single list."
   ]
  },
  {
   "cell_type": "code",
   "execution_count": 64,
   "metadata": {
    "collapsed": false,
    "slideshow": {
     "slide_type": "subslide"
    }
   },
   "outputs": [
    {
     "data": {
      "text/plain": [
       "\u001b[36mres63\u001b[0m: \u001b[32mcollection\u001b[0m.\u001b[32mimmutable\u001b[0m.\u001b[32mIndexedSeq\u001b[0m[\u001b[32mInt\u001b[0m] = \u001b[33mVector\u001b[0m(\n",
       "  \u001b[32m0\u001b[0m,\n",
       "  \u001b[32m1\u001b[0m,\n",
       "  \u001b[32m0\u001b[0m,\n",
       "  \u001b[32m1\u001b[0m,\n",
       "  \u001b[32m2\u001b[0m,\n",
       "  \u001b[32m0\u001b[0m,\n",
       "  \u001b[32m1\u001b[0m,\n",
       "  \u001b[32m2\u001b[0m,\n",
       "  \u001b[32m3\u001b[0m,\n",
       "  \u001b[32m0\u001b[0m,\n",
       "  \u001b[32m1\u001b[0m,\n",
       "  \u001b[32m2\u001b[0m,\n",
       "  \u001b[32m3\u001b[0m,\n",
       "  \u001b[32m4\u001b[0m,\n",
       "  \u001b[32m0\u001b[0m,\n",
       "  \u001b[32m1\u001b[0m,\n",
       "  \u001b[32m2\u001b[0m,\n",
       "  \u001b[32m3\u001b[0m,\n",
       "  \u001b[32m4\u001b[0m,\n",
       "\u001b[33m...\u001b[0m"
      ]
     },
     "metadata": {},
     "output_type": "display_data"
    }
   ],
   "source": [
    "(1 to 10).flatMap(0 to _)"
   ]
  },
  {
   "cell_type": "markdown",
   "metadata": {
    "slideshow": {
     "slide_type": "subslide"
    }
   },
   "source": [
    "* Fold - As in map, applies a function to each item of a sequence. The function to be applied must accept a second parameter (called seed) of any type, and return a value of this very same type. The result of the function is used as the seed for the subsequent calls."
   ]
  },
  {
   "cell_type": "code",
   "execution_count": 65,
   "metadata": {
    "collapsed": false,
    "slideshow": {
     "slide_type": "subslide"
    }
   },
   "outputs": [
    {
     "data": {
      "text/plain": [
       "\u001b[36mres64\u001b[0m: \u001b[32mList\u001b[0m[\u001b[32mInt\u001b[0m] = \u001b[33mList\u001b[0m(\u001b[32m10\u001b[0m, \u001b[32m9\u001b[0m, \u001b[32m8\u001b[0m, \u001b[32m7\u001b[0m, \u001b[32m6\u001b[0m, \u001b[32m5\u001b[0m, \u001b[32m4\u001b[0m, \u001b[32m3\u001b[0m, \u001b[32m2\u001b[0m, \u001b[32m1\u001b[0m)"
      ]
     },
     "metadata": {},
     "output_type": "display_data"
    }
   ],
   "source": [
    "(1 to 10).foldLeft(Nil:List[Int])((a,b) => b :: a)"
   ]
  },
  {
   "cell_type": "markdown",
   "metadata": {
    "slideshow": {
     "slide_type": "subslide"
    }
   },
   "source": [
    "* Reduce - A specialization of fold, where the seed type has the same type of the items in the sequence, and the result is  a single value \"reduced\" by the given function."
   ]
  },
  {
   "cell_type": "code",
   "execution_count": 66,
   "metadata": {
    "collapsed": false,
    "slideshow": {
     "slide_type": "subslide"
    }
   },
   "outputs": [
    {
     "data": {
      "text/plain": [
       "\u001b[36mres65\u001b[0m: \u001b[32mInt\u001b[0m = \u001b[32m55\u001b[0m"
      ]
     },
     "metadata": {},
     "output_type": "display_data"
    }
   ],
   "source": [
    "(1 to 10).reduce(_+_)"
   ]
  },
  {
   "cell_type": "markdown",
   "metadata": {
    "slideshow": {
     "slide_type": "slide"
    }
   },
   "source": [
    "## Advanced Concepts"
   ]
  },
  {
   "cell_type": "markdown",
   "metadata": {
    "slideshow": {
     "slide_type": "slide"
    }
   },
   "source": [
    "### Tail Recursion\n",
    "\n",
    "In order for a recursive call to be tail recursive, the call back to the function must be the last action performed in the function.\n",
    "\n",
    "A non tail recursive function needs to save intermediate results for each nested function call, which can cause stack overflow errors if there are many nested calls.\n",
    "\n",
    "First a non tail recursive function:"
   ]
  },
  {
   "cell_type": "code",
   "execution_count": 67,
   "metadata": {
    "collapsed": false,
    "slideshow": {
     "slide_type": "subslide"
    }
   },
   "outputs": [
    {
     "data": {
      "text/plain": [
       "defined \u001b[32mfunction \u001b[36mfactorial\u001b[0m\n",
       "\u001b[36mres66_1\u001b[0m: \u001b[32mInt\u001b[0m = \u001b[32m120\u001b[0m"
      ]
     },
     "metadata": {},
     "output_type": "display_data"
    }
   ],
   "source": [
    "def factorial(number:Int) : Int = {\n",
    "    if (number == 1)\n",
    "       return 1\n",
    "    number * factorial (number - 1)\n",
    "}\n",
    "factorial(5)"
   ]
  },
  {
   "cell_type": "markdown",
   "metadata": {
    "slideshow": {
     "slide_type": "subslide"
    }
   },
   "source": [
    "Now, a tail recursive implementation:"
   ]
  },
  {
   "cell_type": "code",
   "execution_count": 68,
   "metadata": {
    "collapsed": false,
    "slideshow": {
     "slide_type": "subslide"
    }
   },
   "outputs": [
    {
     "data": {
      "text/plain": [
       "defined \u001b[32mfunction \u001b[36mfactorial\u001b[0m\n",
       "\u001b[36mres67_1\u001b[0m: \u001b[32mInt\u001b[0m = \u001b[32m120\u001b[0m"
      ]
     },
     "metadata": {},
     "output_type": "display_data"
    }
   ],
   "source": [
    "def factorial(number: Int, accumulator: Int = 1) : Int = {\n",
    "  if(number == 1)\n",
    "    accumulator\n",
    "  else\n",
    "    factorial(number - 1, number * accumulator)\n",
    "}\n",
    "factorial(5)"
   ]
  },
  {
   "cell_type": "markdown",
   "metadata": {
    "slideshow": {
     "slide_type": "slide"
    }
   },
   "source": [
    "### Pattern Matching\n",
    "\n",
    "Pattern matching is a very powerful feature which allows code to be written in a more elegant manner, specially when using concomitantly with recursion."
   ]
  },
  {
   "cell_type": "code",
   "execution_count": 69,
   "metadata": {
    "collapsed": false,
    "slideshow": {
     "slide_type": "subslide"
    }
   },
   "outputs": [
    {
     "data": {
      "text/plain": [
       "defined \u001b[32mfunction \u001b[36mfactorial\u001b[0m\n",
       "\u001b[36mres68_1\u001b[0m: \u001b[32mInt\u001b[0m = \u001b[32m120\u001b[0m"
      ]
     },
     "metadata": {},
     "output_type": "display_data"
    }
   ],
   "source": [
    "def factorial(number: Int, accumulator: Int = 1) : Int = number match {\n",
    "    case 1 => accumulator\n",
    "    case _ => factorial(number - 1, number * accumulator)\n",
    "}\n",
    "factorial(5)"
   ]
  },
  {
   "cell_type": "markdown",
   "metadata": {
    "slideshow": {
     "slide_type": "subslide"
    }
   },
   "source": [
    "Here's an example of pattern matching on Lists."
   ]
  },
  {
   "cell_type": "code",
   "execution_count": 70,
   "metadata": {
    "collapsed": false,
    "slideshow": {
     "slide_type": "subslide"
    }
   },
   "outputs": [
    {
     "data": {
      "text/plain": [
       "defined \u001b[32mfunction \u001b[36mfoldLeft\u001b[0m"
      ]
     },
     "metadata": {},
     "output_type": "display_data"
    }
   ],
   "source": [
    "def foldLeft[A, B](l: List[A], z: B)(f: (B, A) => B): B = l match {\n",
    "    case Nil => z\n",
    "    case (x :: xs) => foldLeft(xs, f(z, x))(f)\n",
    "}"
   ]
  },
  {
   "cell_type": "markdown",
   "metadata": {
    "slideshow": {
     "slide_type": "slide"
    }
   },
   "source": [
    "### Algebraic Data Types\n",
    "\n",
    "An algebraic data type is a kind of composite type, i.e., a type formed by combining other types.\n",
    "\n",
    "Two common classes of algebraic types are product types (i.e., tuples and records) and sum types.\n",
    "\n",
    "Examples of product types are tuples and classes:\n",
    "\n",
    "```\n",
    "type Person = (String, Int)\n",
    "```\n",
    "\n",
    "```scala\n",
    "class ScalaPerson(val name: String, val age: Int)\n",
    "```"
   ]
  },
  {
   "cell_type": "markdown",
   "metadata": {
    "slideshow": {
     "slide_type": "subslide"
    }
   },
   "source": [
    "Here's an example of a sum type achieved by using subclassing:"
   ]
  },
  {
   "cell_type": "code",
   "execution_count": 71,
   "metadata": {
    "collapsed": false,
    "slideshow": {
     "slide_type": "subslide"
    }
   },
   "outputs": [
    {
     "data": {
      "text/plain": [
       "defined \u001b[32mtrait \u001b[36mColor\u001b[0m\n",
       "defined \u001b[32mtrait \u001b[36mPet\u001b[0m\n",
       "defined \u001b[32mclass \u001b[36mCat\u001b[0m\n",
       "defined \u001b[32mclass \u001b[36mFish\u001b[0m\n",
       "defined \u001b[32mclass \u001b[36mSquid\u001b[0m\n",
       "\u001b[36mbob\u001b[0m: \u001b[32m$user\u001b[0m.\u001b[32mPet\u001b[0m = Cat(Bob)"
      ]
     },
     "metadata": {},
     "output_type": "display_data"
    }
   ],
   "source": [
    "trait Color\n",
    "\n",
    "sealed trait Pet\n",
    "case class Cat(name: String) extends Pet\n",
    "case class Fish(name: String, color: Color) extends Pet\n",
    "case class Squid(name: String, age: Int) extends Pet\n",
    "\n",
    "val bob: Pet = Cat(\"Bob\")"
   ]
  },
  {
   "cell_type": "markdown",
   "metadata": {
    "slideshow": {
     "slide_type": "subslide"
    }
   },
   "source": [
    "Values of algebraic types are analyzed with pattern matching, which identifies a value by its constructor or field names and extracts the data it contains."
   ]
  },
  {
   "cell_type": "code",
   "execution_count": 72,
   "metadata": {
    "collapsed": false,
    "slideshow": {
     "slide_type": "subslide"
    }
   },
   "outputs": [
    {
     "data": {
      "text/plain": [
       "defined \u001b[32mfunction \u001b[36msayHi\u001b[0m\n",
       "\u001b[36mres71_1\u001b[0m: \u001b[32mString\u001b[0m = \u001b[32m\"Meow Bob!\"\u001b[0m\n",
       "\u001b[36mres71_2\u001b[0m: \u001b[32mString\u001b[0m = \u001b[32m\"Hi Steve.\"\u001b[0m"
      ]
     },
     "metadata": {},
     "output_type": "display_data"
    }
   ],
   "source": [
    "def sayHi(p: Pet): String = p match {\n",
    "    case Cat(n)      => \"Meow \" + n + \"!\"\n",
    "    case Fish(n, _)  => \"Hello fishy \" + n + \".\"    \n",
    "    case Squid(n, _) => \"Hi \" + n + \".\"    \n",
    "}\n",
    "\n",
    "sayHi(Cat(\"Bob\"))\n",
    "\n",
    "sayHi(Squid(\"Steve\", 10))"
   ]
  },
  {
   "cell_type": "markdown",
   "metadata": {
    "slideshow": {
     "slide_type": "fragment"
    }
   },
   "source": [
    "Lists are also an algebraic data type of the type sum type. That's why we can use pattern matching to destructure a list by using its constructors :: (Cons) and Nil."
   ]
  },
  {
   "cell_type": "markdown",
   "metadata": {
    "slideshow": {
     "slide_type": "slide"
    }
   },
   "source": [
    "### Monoids and Monads"
   ]
  },
  {
   "cell_type": "markdown",
   "metadata": {
    "slideshow": {
     "slide_type": "slide"
    }
   },
   "source": [
    "#### Monoids"
   ]
  },
  {
   "cell_type": "markdown",
   "metadata": {
    "slideshow": {
     "slide_type": "subslide"
    }
   },
   "source": [
    "##### Definition\n",
    "\n",
    "A monoid is \"a bunch of things\" and \"some way of combining them\".\n",
    "\n",
    "For example: \n",
    "\n",
    "* \"integers under addition\" is a monoid.\n",
    "* \"strings (or lists) under concatenation\" is a monoid.\n",
    "\n",
    "To be considered a monoid, the combining operation must met the following rules:\n",
    "\n",
    "1. Rule 1 (Closure): The result of combining two things is always another one of the things. Ex: 1 + 2 = 3\n",
    "2. Rule 2 (Associativity): When combining more than two things, which pairwise combination you do first doesn't matter. Ex: (1 + 2) + 3 = 1 + (2 + 3)\n",
    "3. Rule 3 (Identity element): There is a special thing called \"zero\" such that when you combine any thing with \"zero\" you get the original thing back. Ex: 3 * 1 = 3 or \"test\" + \"\" = \"test\"\n",
    "\n",
    "##### Benefits\n",
    "\n",
    "1. Closure: The closure rule has the benefit that you can convert pairwise operations into operations that work on lists or sequences. In other words, if we can define a pairwise operation, we can extend it to list operations \"for free\"."
   ]
  },
  {
   "cell_type": "markdown",
   "metadata": {
    "slideshow": {
     "slide_type": "subslide"
    }
   },
   "source": [
    "The function that does this is typically called \"reduce\"."
   ]
  },
  {
   "cell_type": "code",
   "execution_count": 73,
   "metadata": {
    "collapsed": false,
    "slideshow": {
     "slide_type": "fragment"
    }
   },
   "outputs": [
    {
     "data": {
      "text/plain": [
       "\u001b[36mres72\u001b[0m: \u001b[32mInt\u001b[0m = \u001b[32m10\u001b[0m"
      ]
     },
     "metadata": {},
     "output_type": "display_data"
    }
   ],
   "source": [
    "List(1,2,3,4).reduce(_+_)"
   ]
  },
  {
   "cell_type": "markdown",
   "metadata": {
    "slideshow": {
     "slide_type": "fragment"
    }
   },
   "source": [
    "You can see that reduce can be thought of as inserting the specified operation between each element of the list.\n",
    "\n",
    "2. Associativity: If the pairwise combinations can be done in any order, that opens up some interesting implementation techniques, such as:\n",
    "\n",
    "* Divide and conquer algorithms\n",
    "* Parallelization\n",
    "* Incrementalism\n",
    "\n",
    "3. Identity: Having an identity element is not always required. Having a closed and associative operation is sufficient to do many useful things. However, in some cases, it is not enough. For example, here are some cases that might crop up:\n",
    "\n",
    "* How can I use reduce on an empty list?\n",
    "* If I am designing a divide and conquer algorithm, what should I do if one of the \"divide\" steps has nothing in it?\n",
    "* When using an incremental algorithm, what value should I start with when I have no data?\n",
    "\n",
    "In all cases we need a \"zero\" value. This allows us to say, for example, that the sum of an empty list is 0."
   ]
  },
  {
   "cell_type": "markdown",
   "metadata": {
    "slideshow": {
     "slide_type": "slide"
    }
   },
   "source": [
    "##### Conclusion\n",
    "\n",
    "It's important to understand that it's possible to create our own monoidic types for real life entities like Orders, Customers, Products and so on.\n",
    "\n",
    "By doing that, we can leverage the builtin operations that already know how to work with monoids. From just simplifying our code to enabling parallelism, monoids are a powerful feature of functional programming languages."
   ]
  },
  {
   "cell_type": "markdown",
   "metadata": {
    "slideshow": {
     "slide_type": "slide"
    }
   },
   "source": [
    "#### Monads"
   ]
  },
  {
   "cell_type": "markdown",
   "metadata": {
    "slideshow": {
     "slide_type": "subslide"
    }
   },
   "source": [
    "##### Definition\n",
    "\n",
    "One can think about monads **like** being:\n",
    "\n",
    "* A wrapper for an object.\n",
    "* An interface with two operations to be implemented.\n",
    "* A parametric type.\n",
    "* Monad is not a class or a trait; monad is a concept. Every “wrapper” that provides us with our two operations, unit and flatMap, is essentially a monad.\n",
    "\n",
    "The two functions a monad must implemented are called:\n",
    "\n",
    "* identity (or unit)\n",
    "* bind (or flatMap)\n",
    "\n",
    "The unit function simply performs the wrapping part, i.e., encapsulates the object in a monad of the object's type."
   ]
  },
  {
   "cell_type": "code",
   "execution_count": 74,
   "metadata": {
    "collapsed": false,
    "slideshow": {
     "slide_type": "subslide"
    }
   },
   "outputs": [
    {
     "data": {
      "text/plain": [
       "\u001b[36mlistMonad\u001b[0m: \u001b[32mList\u001b[0m[\u001b[32mInt\u001b[0m] = \u001b[33mList\u001b[0m(\u001b[32m1\u001b[0m)\n",
       "\u001b[36moptionMonad\u001b[0m: \u001b[32mSome\u001b[0m[\u001b[32mInt\u001b[0m] = \u001b[33mSome\u001b[0m(\u001b[32m1\u001b[0m)\n",
       "\u001b[36msetMonad\u001b[0m: \u001b[32mSet\u001b[0m[\u001b[32mInt\u001b[0m] = \u001b[33mSet\u001b[0m(\u001b[32m1\u001b[0m)"
      ]
     },
     "metadata": {},
     "output_type": "display_data"
    }
   ],
   "source": [
    "val listMonad = List(1)\n",
    "val optionMonad = Some(1)\n",
    "val setMonad = Set(1)"
   ]
  },
  {
   "cell_type": "markdown",
   "metadata": {
    "slideshow": {
     "slide_type": "subslide"
    }
   },
   "source": [
    "The flatMap function allows us to transform the object wrapped by a monad. The result of applying flatMap is also a monad of the same type."
   ]
  },
  {
   "cell_type": "code",
   "execution_count": 75,
   "metadata": {
    "collapsed": false,
    "slideshow": {
     "slide_type": "fragment"
    }
   },
   "outputs": [
    {
     "data": {
      "text/plain": [
       "\u001b[36mres74_0\u001b[0m: \u001b[32mList\u001b[0m[\u001b[32mInt\u001b[0m] = \u001b[33mList\u001b[0m(\u001b[32m2\u001b[0m)\n",
       "\u001b[36mres74_1\u001b[0m: \u001b[32mOption\u001b[0m[\u001b[32mInt\u001b[0m] = \u001b[33mSome\u001b[0m(\u001b[32m2\u001b[0m)"
      ]
     },
     "metadata": {},
     "output_type": "display_data"
    }
   ],
   "source": [
    "listMonad.flatMap((x) => List(x+1))\n",
    "optionMonad.flatMap((x)=>Some(x+1))"
   ]
  },
  {
   "cell_type": "markdown",
   "metadata": {
    "slideshow": {
     "slide_type": "subslide"
    }
   },
   "source": [
    "For completeness, it's necessary to mention that in order to be considered a monad, the parametric type needs to conform with the following laws:\n",
    "\n",
    "* **lef-identity law:** \n",
    "\n",
    "```scala\n",
    "unit(x).flatMap(f) == f(x)\n",
    "```\n",
    "\n",
    "* **right-identity law:**\n",
    "\n",
    "```scala\n",
    "m.flatMap(unit) == m\n",
    "```\n",
    "\n",
    "* **associativity law:**\n",
    "\n",
    "```scala\n",
    "m.flatMap(f).flatMap(g) == m.flatMap(x ⇒ f(x).flatMap(g))\n",
    "```"
   ]
  },
  {
   "cell_type": "markdown",
   "metadata": {
    "slideshow": {
     "slide_type": "subslide"
    }
   },
   "source": [
    "##### Benefits\n",
    "\n",
    "Monads help avoiding boilerplate code and also enables composition by removing the need for things like null checks and exception handling.\n",
    "\n",
    "Here's an example of a program which takes advantage of the Option monad to avoid null checks and exception handling:"
   ]
  },
  {
   "cell_type": "code",
   "execution_count": 76,
   "metadata": {
    "collapsed": false,
    "slideshow": {
     "slide_type": "subslide"
    }
   },
   "outputs": [
    {
     "data": {
      "text/plain": [
       "defined \u001b[32mtrait \u001b[36mUser\u001b[0m\n",
       "defined \u001b[32mclass \u001b[36mSomeUser\u001b[0m\n",
       "defined \u001b[32mobject \u001b[36mUserService\u001b[0m\n",
       "\u001b[36mgetChild\u001b[0m: \u001b[32m$user\u001b[0m.\u001b[32mUser\u001b[0m => \u001b[32mOption\u001b[0m[\u001b[32m$user\u001b[0m.\u001b[32mUser\u001b[0m] = <function1>\n",
       "\u001b[36mresult\u001b[0m: \u001b[32mOption\u001b[0m[\u001b[32m$user\u001b[0m.\u001b[32mUser\u001b[0m] = None"
      ]
     },
     "metadata": {},
     "output_type": "display_data"
    }
   ],
   "source": [
    "trait User {\n",
    "  val child: Option[User]\n",
    "}\n",
    "\n",
    "case class SomeUser (child:Option[User]) extends User\n",
    "\n",
    "object UserService {\n",
    "  def loadUser(name: String): Option[User] = None\n",
    "}\n",
    "\n",
    "val getChild = (user: User) => user.child\n",
    "\n",
    "val result = UserService.loadUser(\"mike\")\n",
    "  .flatMap(getChild)\n",
    "  .flatMap(getChild)"
   ]
  },
  {
   "cell_type": "markdown",
   "metadata": {
    "slideshow": {
     "slide_type": "subslide"
    }
   },
   "source": [
    "When using monads, some languages will provide you with some syntactic sugar to operate on them:"
   ]
  },
  {
   "cell_type": "code",
   "execution_count": 77,
   "metadata": {
    "collapsed": false,
    "slideshow": {
     "slide_type": "subslide"
    }
   },
   "outputs": [
    {
     "data": {
      "text/plain": [
       "\u001b[36mresult\u001b[0m: \u001b[32mOption\u001b[0m[\u001b[32mUser\u001b[0m] = None"
      ]
     },
     "metadata": {},
     "output_type": "display_data"
    }
   ],
   "source": [
    "val result = for {\n",
    "  user             <- UserService.loadUser(\"mike\")\n",
    "  usersChild       <- user.child\n",
    "  usersGrandChild  <- usersChild.child\n",
    "} yield usersGrandChild"
   ]
  },
  {
   "cell_type": "markdown",
   "metadata": {
    "slideshow": {
     "slide_type": "subslide"
    }
   },
   "source": [
    "Another application of monads, now using the Future monad. Let's start with the domain model and services:"
   ]
  },
  {
   "cell_type": "code",
   "execution_count": 78,
   "metadata": {
    "collapsed": false,
    "slideshow": {
     "slide_type": "subslide"
    }
   },
   "outputs": [
    {
     "data": {
      "text/plain": [
       "\u001b[32mimport \u001b[36mscala.concurrent.Future\u001b[0m\n",
       "\u001b[32mimport \u001b[36mscala.concurrent.ExecutionContext.Implicits.global\u001b[0m\n",
       "defined \u001b[32mtrait \u001b[36mOrder\u001b[0m\n",
       "defined \u001b[32mclass \u001b[36mSomeOrder\u001b[0m\n",
       "defined \u001b[32mtrait \u001b[36mItem\u001b[0m\n",
       "defined \u001b[32mclass \u001b[36mSomeItem\u001b[0m\n",
       "defined \u001b[32mtrait \u001b[36mPurchaseResult\u001b[0m\n",
       "defined \u001b[32mclass \u001b[36mSomePurchaseResult\u001b[0m\n",
       "defined \u001b[32mtrait \u001b[36mLogResult\u001b[0m\n",
       "defined \u001b[32mclass \u001b[36mSomeLogResult\u001b[0m\n",
       "defined \u001b[32mobject \u001b[36mOrderService\u001b[0m\n",
       "defined \u001b[32mobject \u001b[36mItemService\u001b[0m\n",
       "defined \u001b[32mobject \u001b[36mPurchasingService\u001b[0m"
      ]
     },
     "metadata": {},
     "output_type": "display_data"
    }
   ],
   "source": [
    "// needed for Futures to work\n",
    "import scala.concurrent.Future\n",
    "import scala.concurrent.ExecutionContext.Implicits.global\n",
    "\n",
    "trait Order\n",
    "case class SomeOrder() extends Order\n",
    "trait Item\n",
    "case class SomeItem() extends Item\n",
    "trait PurchaseResult\n",
    "case class SomePurchaseResult() extends PurchaseResult\n",
    "trait LogResult\n",
    "case class SomeLogResult() extends LogResult\n",
    "\n",
    "object OrderService {  \n",
    "  def loadOrder(username: String): Future[Order] = Future(SomeOrder())\n",
    "}\n",
    "object ItemService {  \n",
    "  def loadItem(order: Order): Future[Item] = Future(SomeItem())\n",
    "}\n",
    "object PurchasingService { \n",
    "  def purchaseItem(item: Item): Future[PurchaseResult] = Future(SomePurchaseResult())\n",
    "  def logPurchase(purchaseResult: PurchaseResult): Future[LogResult] = Future(SomeLogResult())\n",
    "}"
   ]
  },
  {
   "cell_type": "markdown",
   "metadata": {
    "slideshow": {
     "slide_type": "subslide"
    }
   },
   "source": [
    "Now let's create some functions to call our services:"
   ]
  },
  {
   "cell_type": "code",
   "execution_count": 79,
   "metadata": {
    "collapsed": false,
    "slideshow": {
     "slide_type": "subslide"
    }
   },
   "outputs": [
    {
     "data": {
      "text/plain": [
       "\u001b[36mloadItem\u001b[0m: \u001b[32mOrder\u001b[0m => \u001b[32mFuture\u001b[0m[\u001b[32mItem\u001b[0m] = <function1>\n",
       "\u001b[36mpurchaseItem\u001b[0m: \u001b[32mItem\u001b[0m => \u001b[32mFuture\u001b[0m[\u001b[32mPurchaseResult\u001b[0m] = <function1>\n",
       "\u001b[36mlogPurchase\u001b[0m: \u001b[32mPurchaseResult\u001b[0m => \u001b[32mFuture\u001b[0m[\u001b[32mLogResult\u001b[0m] = <function1>"
      ]
     },
     "metadata": {},
     "output_type": "display_data"
    }
   ],
   "source": [
    "val loadItem: Order => Future[Item] = {\n",
    "  order => ItemService.loadItem(order)\n",
    "}\n",
    "val purchaseItem: Item => Future[PurchaseResult] = {\n",
    "  item => PurchasingService.purchaseItem(item)\n",
    "}\n",
    "\n",
    "val logPurchase: PurchaseResult => Future[LogResult] = {\n",
    "  purchaseResult => PurchasingService.logPurchase(purchaseResult)\n",
    "}"
   ]
  },
  {
   "cell_type": "markdown",
   "metadata": {
    "slideshow": {
     "slide_type": "subslide"
    }
   },
   "source": [
    "Finally, let's chain everything together."
   ]
  },
  {
   "cell_type": "code",
   "execution_count": 80,
   "metadata": {
    "collapsed": false,
    "slideshow": {
     "slide_type": "subslide"
    }
   },
   "outputs": [
    {
     "data": {
      "text/plain": [
       "\u001b[36mresult\u001b[0m: \u001b[32mFuture\u001b[0m[\u001b[32mLogResult\u001b[0m] = List()"
      ]
     },
     "metadata": {},
     "output_type": "display_data"
    }
   ],
   "source": [
    "val result = \n",
    "  OrderService.loadOrder(\"customerUsername\")\n",
    "  .flatMap(loadItem)\n",
    "  .flatMap(purchaseItem)\n",
    "  .flatMap(logPurchase)"
   ]
  },
  {
   "cell_type": "markdown",
   "metadata": {
    "slideshow": {
     "slide_type": "subslide"
    }
   },
   "source": [
    "Once again, by using monads we can leverage the for comprehension syntactic sugar (in Scala)."
   ]
  },
  {
   "cell_type": "code",
   "execution_count": 81,
   "metadata": {
    "collapsed": false,
    "slideshow": {
     "slide_type": "subslide"
    }
   },
   "outputs": [
    {
     "data": {
      "text/plain": [
       "\u001b[36mresult\u001b[0m: \u001b[32mFuture\u001b[0m[\u001b[32mLogResult\u001b[0m] = Success(SomeLogResult())"
      ]
     },
     "metadata": {},
     "output_type": "display_data"
    }
   ],
   "source": [
    "val result =\n",
    "  for {\n",
    "    loadedOrder    <- OrderService.loadOrder(\"customerUsername\")\n",
    "    loadedItem     <- ItemService.loadItem(loadedOrder)\n",
    "    purchaseResult <- PurchasingService.purchaseItem(loadedItem)\n",
    "    logResult      <- PurchasingService.logPurchase(purchaseResult)\n",
    "  } yield logResult"
   ]
  },
  {
   "cell_type": "markdown",
   "metadata": {
    "slideshow": {
     "slide_type": "slide"
    }
   },
   "source": [
    "##### Conclusion\n",
    "\n",
    "Monads with its two operations, unit and flatMap, is a pretty powerful feature. Forget entangled if-branches, nested loops with their off-by-one errors and the callback hell. Monads enable you to write simpler and cleaner code, which often leads to less bugs in production.\n",
    "\n",
    "Just like monoids, beyond using the existing monads, we can create our own in order to make our codebase simpler and more elegant."
   ]
  },
  {
   "cell_type": "markdown",
   "metadata": {
    "slideshow": {
     "slide_type": "slide"
    }
   },
   "source": [
    "<center> **Thank You!** </center>"
   ]
  }
 ],
 "metadata": {
  "celltoolbar": "Slideshow",
  "kernelspec": {
   "display_name": "Scala 2.11",
   "language": "scala211",
   "name": "scala211"
  },
  "language_info": {
   "codemirror_mode": "text/x-scala",
   "file_extension": ".scala",
   "mimetype": "text/x-scala",
   "name": "scala211",
   "pygments_lexer": "scala",
   "version": "2.11.8"
  }
 },
 "nbformat": 4,
 "nbformat_minor": 1
}
